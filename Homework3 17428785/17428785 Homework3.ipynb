{
 "cells": [
  {
   "cell_type": "code",
   "execution_count": 6,
   "metadata": {},
   "outputs": [],
   "source": [
    "import pandas as pd\n",
    "from pandas import Series,DataFrame\n",
    "import matplotlib.pyplot as plt\n",
    "import numpy as np\n",
    "import seaborn as sns"
   ]
  },
  {
   "cell_type": "code",
   "execution_count": 7,
   "metadata": {},
   "outputs": [],
   "source": [
    "df= pd.read_csv(\"classdata.csv\")\n"
   ]
  },
  {
   "cell_type": "code",
   "execution_count": 8,
   "metadata": {},
   "outputs": [
    {
     "data": {
      "text/plain": [
       "0      文学 literature\n",
       "1      文学 literature\n",
       "2      文学 literature\n",
       "3      文学 literature\n",
       "4      文学 literature\n",
       "5      文学 literature\n",
       "6      文学 literature\n",
       "7      文学 literature\n",
       "8      文学 literature\n",
       "9      文学 literature\n",
       "10     文学 literature\n",
       "11     文学 literature\n",
       "12     文学 literature\n",
       "13     文学 literature\n",
       "14     文学 literature\n",
       "15     文学 literature\n",
       "16       语言 language\n",
       "17       语言 language\n",
       "18       语言 language\n",
       "19       语言 language\n",
       "20       语言 language\n",
       "21       语言 language\n",
       "22       语言 language\n",
       "23       语言 language\n",
       "24       语言 language\n",
       "25       语言 language\n",
       "26       语言 language\n",
       "27       语言 language\n",
       "28       语言 language\n",
       "29       语言 language\n",
       "           ...      \n",
       "411     计算机 computer\n",
       "412     计算机 computer\n",
       "413     计算机 computer\n",
       "414     计算机 computer\n",
       "415     计算机 computer\n",
       "416     计算机 computer\n",
       "417     计算机 computer\n",
       "418     计算机 computer\n",
       "419     计算机 computer\n",
       "420     计算机 computer\n",
       "421     计算机 computer\n",
       "422     计算机 computer\n",
       "423      医学 medicine\n",
       "424      医学 medicine\n",
       "425      医学 medicine\n",
       "426      医学 medicine\n",
       "427      医学 medicine\n",
       "428      医学 medicine\n",
       "429      医学 medicine\n",
       "430      医学 medicine\n",
       "431      医学 medicine\n",
       "432      医学 medicine\n",
       "433      医学 medicine\n",
       "434      医学 medicine\n",
       "435      医学 medicine\n",
       "436      医学 medicine\n",
       "437      医学 medicine\n",
       "438      医学 medicine\n",
       "439      医学 medicine\n",
       "440      医学 medicine\n",
       "Name: categories, Length: 441, dtype: object"
      ]
     },
     "execution_count": 8,
     "metadata": {},
     "output_type": "execute_result"
    }
   ],
   "source": [
    "df[\"categories\"]"
   ]
  },
  {
   "cell_type": "code",
   "execution_count": 9,
   "metadata": {},
   "outputs": [
    {
     "data": {
      "text/plain": [
       "演讲 speech          62\n",
       "艺术 art             31\n",
       "社会 sociology       29\n",
       "管理 management      26\n",
       "经济 economics       25\n",
       "计算机 computer       25\n",
       "物理 physics         23\n",
       "化学 chemistry       22\n",
       "生物 biology         20\n",
       "历史 history         19\n",
       "地球科学 geoscience    18\n",
       "数学 mathematics     18\n",
       "医学 medicine        18\n",
       "心理 psychology      17\n",
       "文学 literature      16\n",
       "教育 education       15\n",
       "语言 language        14\n",
       "哲学 philosophy      11\n",
       "法律 law             10\n",
       "宗教 religion         8\n",
       "政治 politics         7\n",
       "传播 media            4\n",
       "地理 geography        3\n",
       "Name: categories, dtype: int64"
      ]
     },
     "execution_count": 9,
     "metadata": {},
     "output_type": "execute_result"
    }
   ],
   "source": [
    "cates=df[\"categories\"].value_counts()\n",
    "cates"
   ]
  },
  {
   "cell_type": "code",
   "execution_count": 10,
   "metadata": {},
   "outputs": [
    {
     "data": {
      "image/png": "[encoded data removed]",
      "text/plain": [
       "<Figure size 432x288 with 1 Axes>"
      ]
     },
     "metadata": {},
     "output_type": "display_data"
    }
   ],
   "source": [
    "fig1 = plt.figure(1,facecolor = 'black')\n",
    "ax1 = fig1.add_subplot(2,1,1,facecolor='#4f4f4f',alpha=0.1)\n",
    "plt.tick_params(colors='white')\n",
    "cates.plot(kind='bar',rot=0,color='#ef9d9a')\n",
    "title = plt.title('Course Distribution',fontsize=18,color='yellow')\n",
    "xlabel = plt.xlabel('categories',fontsize=14,color='yellow')\n",
    "ylabel = plt.ylabel('course count',fontsize=14,color='yellow')"
   ]
  },
  {
   "cell_type": "markdown",
   "metadata": {},
   "source": [
    "According to the cahrt, most of the rideos are about the Speech, and the cate of Geography ranked last. \n",
    "The top three cates are all about fine arts and social science, and among all categories, there is a tendency that more fine art and social science courses than science and technology courses."
   ]
  },
  {
   "cell_type": "code",
   "execution_count": 11,
   "metadata": {},
   "outputs": [
    {
     "data": {
      "text/plain": [
       "False    387\n",
       "True      54\n",
       "Name: vedios, dtype: int64"
      ]
     },
     "execution_count": 11,
     "metadata": {},
     "output_type": "execute_result"
    }
   ],
   "source": [
    "def check_name(x):\n",
    "    return \"斯坦福\" in x\n",
    "df[\"vedios\"].apply(check_name).value_counts()"
   ]
  },
  {
   "cell_type": "markdown",
   "metadata": {},
   "source": [
    "I want to check out the number of videos from Stanford, so I use \"def\" to define a new function."
   ]
  },
  {
   "cell_type": "code",
   "execution_count": 12,
   "metadata": {},
   "outputs": [],
   "source": [
    "def count_school(name):\n",
    "    def check_name(x):\n",
    "        return name in x\n",
    "    return df[\"vedios\"].apply(check_name).value_counts()[True]"
   ]
  },
  {
   "cell_type": "code",
   "execution_count": 13,
   "metadata": {},
   "outputs": [
    {
     "data": {
      "text/plain": [
       "47"
      ]
     },
     "execution_count": 13,
     "metadata": {},
     "output_type": "execute_result"
    }
   ],
   "source": [
    "count_school(\"麻省\")"
   ]
  },
  {
   "cell_type": "code",
   "execution_count": 14,
   "metadata": {},
   "outputs": [
    {
     "data": {
      "text/plain": [
       "16"
      ]
     },
     "execution_count": 14,
     "metadata": {},
     "output_type": "execute_result"
    }
   ],
   "source": [
    "count_school(\"哈佛\")"
   ]
  },
  {
   "cell_type": "code",
   "execution_count": 15,
   "metadata": {},
   "outputs": [
    {
     "data": {
      "text/plain": [
       "41"
      ]
     },
     "execution_count": 15,
     "metadata": {},
     "output_type": "execute_result"
    }
   ],
   "source": [
    "count_school(\"耶鲁\")"
   ]
  },
  {
   "cell_type": "code",
   "execution_count": 16,
   "metadata": {},
   "outputs": [
    {
     "data": {
      "text/plain": [
       "16"
      ]
     },
     "execution_count": 16,
     "metadata": {},
     "output_type": "execute_result"
    }
   ],
   "source": [
    "count_school(\"牛津\")"
   ]
  },
  {
   "cell_type": "code",
   "execution_count": 17,
   "metadata": {},
   "outputs": [
    {
     "data": {
      "text/plain": [
       "6"
      ]
     },
     "execution_count": 17,
     "metadata": {},
     "output_type": "execute_result"
    }
   ],
   "source": [
    "count_school(\"剑桥\")"
   ]
  },
  {
   "cell_type": "code",
   "execution_count": 18,
   "metadata": {},
   "outputs": [
    {
     "data": {
      "text/plain": [
       "54"
      ]
     },
     "execution_count": 18,
     "metadata": {},
     "output_type": "execute_result"
    }
   ],
   "source": [
    "count_school(\"斯坦福\")"
   ]
  },
  {
   "cell_type": "code",
   "execution_count": 19,
   "metadata": {},
   "outputs": [
    {
     "data": {
      "text/plain": [
       "8"
      ]
     },
     "execution_count": 19,
     "metadata": {},
     "output_type": "execute_result"
    }
   ],
   "source": [
    "count_school(\"英国公开\")"
   ]
  },
  {
   "cell_type": "markdown",
   "metadata": {},
   "source": [
    "After I apply a new function--count_school, based on the former step, I can easily check the number of videos from different school.As We can see there are 54 videos are from Stanford University，47 videos are from MIT，41 arefrom Yale, and 16 are from Harvard and Oxford respectively，and 6 are from Cambridge. \n",
    "\n",
    "As we can see, the major job of the Global University open class of Netease is about translating the original English version to a Chinese version . So the amount of the videos of different school on the website is result from their own school's release system. \n",
    "\n",
    "Why Stanford has a large amount of online education videos? It must mention the Coursera /kərˈsɛrə/. It is a venture-backed, education-focused technology company founded by Stanford professors Andrew Ng and Daphne Koller that offers online courses. Coursera works with universities and other organizations to offer online courses, specializations, and degrees in a variety of subjects, such as engineering, humanities, medicine, biology, social sciences, mathematics, business, computer science, digital marketing, data science, and others. So, based on such a big online education system, it is easy to explain why large part of the videos are from Stanford.  \n",
    "\n",
    "After Coursera, another massive open online course provider, edX, is created by MIT and Harvard University. So there are also many online courses are from those two schools.\n",
    "\n",
    "In a nut shell, the openness of online course resources in different is a main reason of this distribution.\n",
    "\n"
   ]
  },
  {
   "cell_type": "code",
   "execution_count": 20,
   "metadata": {},
   "outputs": [],
   "source": [
    "sta=df[df[\"vedios\"].apply(check_name)]"
   ]
  },
  {
   "cell_type": "code",
   "execution_count": 21,
   "metadata": {},
   "outputs": [
    {
     "data": {
      "text/plain": [
       "管理 management      13\n",
       "计算机 computer       11\n",
       "演讲 speech           6\n",
       "医学 medicine         4\n",
       "社会 sociology        3\n",
       "物理 physics          3\n",
       "地球科学 geoscience     3\n",
       "历史 history          2\n",
       "艺术 art              2\n",
       "经济 economics        2\n",
       "地理 geography        1\n",
       "心理 psychology       1\n",
       "数学 mathematics      1\n",
       "生物 biology          1\n",
       "法律 law              1\n",
       "Name: categories, dtype: int64"
      ]
     },
     "execution_count": 21,
     "metadata": {},
     "output_type": "execute_result"
    }
   ],
   "source": [
    "sta[\"categories\"].value_counts()"
   ]
  },
  {
   "cell_type": "markdown",
   "metadata": {},
   "source": [
    "I then create a new form of Stanford's online courses named \"sta\" to do more reasearch.\n",
    "\n",
    "After I count the category of the videos, I find that most videos are about management and computer.\n",
    "\n",
    "According to the report，Stanford Graduate School of Business ranked No.1 together with Yale Business school in America for a long time. \n",
    "Also, the computer science of Stanford ranked top3 around the world.\n",
    "\n",
    "So, it is reasonable to have most classes on these area."
   ]
  },
  {
   "cell_type": "code",
   "execution_count": 22,
   "metadata": {},
   "outputs": [],
   "source": [
    "import jieba"
   ]
  },
  {
   "cell_type": "code",
   "execution_count": 23,
   "metadata": {},
   "outputs": [
    {
     "name": "stderr",
     "output_type": "stream",
     "text": [
      "Building prefix dict from the default dictionary ...\n",
      "Dumping model to file cache /var/folders/hj/cfhxjv_j6nn120wl6chbg_c00000gn/T/jieba.cache\n",
      "Loading model cost 1.497 seconds.\n",
      "Prefix dict has been built succesfully.\n"
     ]
    },
    {
     "data": {
      "text/plain": [
       "['斯坦福大学', '《', '美国', '研究', '》']"
      ]
     },
     "execution_count": 23,
     "metadata": {},
     "output_type": "execute_result"
    }
   ],
   "source": [
    "list(jieba.cut(sta[\"vedios\"][53]))"
   ]
  },
  {
   "cell_type": "code",
   "execution_count": 33,
   "metadata": {},
   "outputs": [],
   "source": [
    "all_text=[]\n",
    "for text in sta[\"vedios\"]:\n",
    "    all_text.extend(list(jieba.cut(text)))"
   ]
  },
  {
   "cell_type": "code",
   "execution_count": 25,
   "metadata": {},
   "outputs": [],
   "source": [
    "word_count={}\n",
    "for word in all_text:\n",
    "    if word not in word_count:\n",
    "        word_count[word]=1\n",
    "    else:\n",
    "        word_count[word]=word_count[word]+1"
   ]
  },
  {
   "cell_type": "code",
   "execution_count": 27,
   "metadata": {},
   "outputs": [
    {
     "data": {
      "text/html": [
       "<div>\n",
       "<style scoped>\n",
       "    .dataframe tbody tr th:only-of-type {\n",
       "        vertical-align: middle;\n",
       "    }\n",
       "\n",
       "    .dataframe tbody tr th {\n",
       "        vertical-align: top;\n",
       "    }\n",
       "\n",
       "    .dataframe thead th {\n",
       "        text-align: right;\n",
       "    }\n",
       "</style>\n",
       "<table border=\"1\" class=\"dataframe\">\n",
       "  <thead>\n",
       "    <tr style=\"text-align: right;\">\n",
       "      <th></th>\n",
       "      <th>index</th>\n",
       "      <th>0</th>\n",
       "    </tr>\n",
       "  </thead>\n",
       "  <tbody>\n",
       "    <tr>\n",
       "      <th>0</th>\n",
       "      <td></td>\n",
       "      <td>5</td>\n",
       "    </tr>\n",
       "    <tr>\n",
       "      <th>1</th>\n",
       "      <td>(</td>\n",
       "      <td>1</td>\n",
       "    </tr>\n",
       "    <tr>\n",
       "      <th>2</th>\n",
       "      <td>)</td>\n",
       "      <td>1</td>\n",
       "    </tr>\n",
       "    <tr>\n",
       "      <th>3</th>\n",
       "      <td>2010</td>\n",
       "      <td>1</td>\n",
       "    </tr>\n",
       "    <tr>\n",
       "      <th>4</th>\n",
       "      <td>2014</td>\n",
       "      <td>1</td>\n",
       "    </tr>\n",
       "    <tr>\n",
       "      <th>5</th>\n",
       "      <td>7</td>\n",
       "      <td>2</td>\n",
       "    </tr>\n",
       "    <tr>\n",
       "      <th>6</th>\n",
       "      <td>8</td>\n",
       "      <td>1</td>\n",
       "    </tr>\n",
       "    <tr>\n",
       "      <th>7</th>\n",
       "      <td>America</td>\n",
       "      <td>1</td>\n",
       "    </tr>\n",
       "    <tr>\n",
       "      <th>8</th>\n",
       "      <td>CEO</td>\n",
       "      <td>6</td>\n",
       "    </tr>\n",
       "    <tr>\n",
       "      <th>9</th>\n",
       "      <td>Dropbox</td>\n",
       "      <td>1</td>\n",
       "    </tr>\n",
       "    <tr>\n",
       "      <th>10</th>\n",
       "      <td>For</td>\n",
       "      <td>1</td>\n",
       "    </tr>\n",
       "    <tr>\n",
       "      <th>11</th>\n",
       "      <td>Instagram</td>\n",
       "      <td>1</td>\n",
       "    </tr>\n",
       "    <tr>\n",
       "      <th>12</th>\n",
       "      <td>Intel</td>\n",
       "      <td>1</td>\n",
       "    </tr>\n",
       "    <tr>\n",
       "      <th>13</th>\n",
       "      <td>LinkedIn</td>\n",
       "      <td>1</td>\n",
       "    </tr>\n",
       "    <tr>\n",
       "      <th>14</th>\n",
       "      <td>M</td>\n",
       "      <td>1</td>\n",
       "    </tr>\n",
       "    <tr>\n",
       "      <th>15</th>\n",
       "      <td>MBA</td>\n",
       "      <td>1</td>\n",
       "    </tr>\n",
       "    <tr>\n",
       "      <th>16</th>\n",
       "      <td>NVIDIA</td>\n",
       "      <td>1</td>\n",
       "    </tr>\n",
       "    <tr>\n",
       "      <th>17</th>\n",
       "      <td>PayPal</td>\n",
       "      <td>1</td>\n",
       "    </tr>\n",
       "    <tr>\n",
       "      <th>18</th>\n",
       "      <td>SlideShare</td>\n",
       "      <td>1</td>\n",
       "    </tr>\n",
       "    <tr>\n",
       "      <th>19</th>\n",
       "      <td>Teach</td>\n",
       "      <td>1</td>\n",
       "    </tr>\n",
       "    <tr>\n",
       "      <th>20</th>\n",
       "      <td>Twitter</td>\n",
       "      <td>1</td>\n",
       "    </tr>\n",
       "    <tr>\n",
       "      <th>21</th>\n",
       "      <td>eBay</td>\n",
       "      <td>2</td>\n",
       "    </tr>\n",
       "    <tr>\n",
       "      <th>22</th>\n",
       "      <td>iOS</td>\n",
       "      <td>2</td>\n",
       "    </tr>\n",
       "    <tr>\n",
       "      <th>23</th>\n",
       "      <td>iOS5</td>\n",
       "      <td>1</td>\n",
       "    </tr>\n",
       "    <tr>\n",
       "      <th>24</th>\n",
       "      <td>iPad</td>\n",
       "      <td>1</td>\n",
       "    </tr>\n",
       "    <tr>\n",
       "      <th>25</th>\n",
       "      <td>iPhone</td>\n",
       "      <td>2</td>\n",
       "    </tr>\n",
       "    <tr>\n",
       "      <th>26</th>\n",
       "      <td>·</td>\n",
       "      <td>2</td>\n",
       "    </tr>\n",
       "    <tr>\n",
       "      <th>27</th>\n",
       "      <td>—</td>\n",
       "      <td>3</td>\n",
       "    </tr>\n",
       "    <tr>\n",
       "      <th>28</th>\n",
       "      <td>、</td>\n",
       "      <td>1</td>\n",
       "    </tr>\n",
       "    <tr>\n",
       "      <th>29</th>\n",
       "      <td>《</td>\n",
       "      <td>52</td>\n",
       "    </tr>\n",
       "    <tr>\n",
       "      <th>...</th>\n",
       "      <td>...</td>\n",
       "      <td>...</td>\n",
       "    </tr>\n",
       "    <tr>\n",
       "      <th>133</th>\n",
       "      <td>编程</td>\n",
       "      <td>3</td>\n",
       "    </tr>\n",
       "    <tr>\n",
       "      <th>134</th>\n",
       "      <td>网页</td>\n",
       "      <td>1</td>\n",
       "    </tr>\n",
       "    <tr>\n",
       "      <th>135</th>\n",
       "      <td>美国</td>\n",
       "      <td>4</td>\n",
       "    </tr>\n",
       "    <tr>\n",
       "      <th>136</th>\n",
       "      <td>能源</td>\n",
       "      <td>1</td>\n",
       "    </tr>\n",
       "    <tr>\n",
       "      <th>137</th>\n",
       "      <td>自由</td>\n",
       "      <td>1</td>\n",
       "    </tr>\n",
       "    <tr>\n",
       "      <th>138</th>\n",
       "      <td>艺术</td>\n",
       "      <td>1</td>\n",
       "    </tr>\n",
       "    <tr>\n",
       "      <th>139</th>\n",
       "      <td>艺电</td>\n",
       "      <td>1</td>\n",
       "    </tr>\n",
       "    <tr>\n",
       "      <th>140</th>\n",
       "      <td>范式</td>\n",
       "      <td>1</td>\n",
       "    </tr>\n",
       "    <tr>\n",
       "      <th>141</th>\n",
       "      <td>行为</td>\n",
       "      <td>1</td>\n",
       "    </tr>\n",
       "    <tr>\n",
       "      <th>142</th>\n",
       "      <td>解剖学</td>\n",
       "      <td>1</td>\n",
       "    </tr>\n",
       "    <tr>\n",
       "      <th>143</th>\n",
       "      <td>计划</td>\n",
       "      <td>1</td>\n",
       "    </tr>\n",
       "    <tr>\n",
       "      <th>144</th>\n",
       "      <td>计算机</td>\n",
       "      <td>1</td>\n",
       "    </tr>\n",
       "    <tr>\n",
       "      <th>145</th>\n",
       "      <td>讲座</td>\n",
       "      <td>1</td>\n",
       "    </tr>\n",
       "    <tr>\n",
       "      <th>146</th>\n",
       "      <td>论坛</td>\n",
       "      <td>1</td>\n",
       "    </tr>\n",
       "    <tr>\n",
       "      <th>147</th>\n",
       "      <td>设计</td>\n",
       "      <td>1</td>\n",
       "    </tr>\n",
       "    <tr>\n",
       "      <th>148</th>\n",
       "      <td>诺基亚</td>\n",
       "      <td>1</td>\n",
       "    </tr>\n",
       "    <tr>\n",
       "      <th>149</th>\n",
       "      <td>课程</td>\n",
       "      <td>1</td>\n",
       "    </tr>\n",
       "    <tr>\n",
       "      <th>150</th>\n",
       "      <td>谈</td>\n",
       "      <td>8</td>\n",
       "    </tr>\n",
       "    <tr>\n",
       "      <th>151</th>\n",
       "      <td>达尔文</td>\n",
       "      <td>1</td>\n",
       "    </tr>\n",
       "    <tr>\n",
       "      <th>152</th>\n",
       "      <td>过去</td>\n",
       "      <td>1</td>\n",
       "    </tr>\n",
       "    <tr>\n",
       "      <th>153</th>\n",
       "      <td>过程</td>\n",
       "      <td>2</td>\n",
       "    </tr>\n",
       "    <tr>\n",
       "      <th>154</th>\n",
       "      <td>运作</td>\n",
       "      <td>1</td>\n",
       "    </tr>\n",
       "    <tr>\n",
       "      <th>155</th>\n",
       "      <td>选举</td>\n",
       "      <td>1</td>\n",
       "    </tr>\n",
       "    <tr>\n",
       "      <th>156</th>\n",
       "      <td>遗产</td>\n",
       "      <td>1</td>\n",
       "    </tr>\n",
       "    <tr>\n",
       "      <th>157</th>\n",
       "      <td>部副</td>\n",
       "      <td>1</td>\n",
       "    </tr>\n",
       "    <tr>\n",
       "      <th>158</th>\n",
       "      <td>量子力学</td>\n",
       "      <td>1</td>\n",
       "    </tr>\n",
       "    <tr>\n",
       "      <th>159</th>\n",
       "      <td>非裔</td>\n",
       "      <td>1</td>\n",
       "    </tr>\n",
       "    <tr>\n",
       "      <th>160</th>\n",
       "      <td>领袖</td>\n",
       "      <td>2</td>\n",
       "    </tr>\n",
       "    <tr>\n",
       "      <th>161</th>\n",
       "      <td>颠覆</td>\n",
       "      <td>1</td>\n",
       "    </tr>\n",
       "    <tr>\n",
       "      <th>162</th>\n",
       "      <td>：</td>\n",
       "      <td>3</td>\n",
       "    </tr>\n",
       "  </tbody>\n",
       "</table>\n",
       "<p>163 rows × 2 columns</p>\n",
       "</div>"
      ],
      "text/plain": [
       "          index   0\n",
       "0                 5\n",
       "1             (   1\n",
       "2             )   1\n",
       "3          2010   1\n",
       "4          2014   1\n",
       "5             7   2\n",
       "6             8   1\n",
       "7       America   1\n",
       "8           CEO   6\n",
       "9       Dropbox   1\n",
       "10          For   1\n",
       "11    Instagram   1\n",
       "12        Intel   1\n",
       "13     LinkedIn   1\n",
       "14            M   1\n",
       "15          MBA   1\n",
       "16       NVIDIA   1\n",
       "17       PayPal   1\n",
       "18   SlideShare   1\n",
       "19        Teach   1\n",
       "20      Twitter   1\n",
       "21         eBay   2\n",
       "22          iOS   2\n",
       "23         iOS5   1\n",
       "24         iPad   1\n",
       "25       iPhone   2\n",
       "26            ·   2\n",
       "27            —   3\n",
       "28            、   1\n",
       "29            《  52\n",
       "..          ...  ..\n",
       "133          编程   3\n",
       "134          网页   1\n",
       "135          美国   4\n",
       "136          能源   1\n",
       "137          自由   1\n",
       "138          艺术   1\n",
       "139          艺电   1\n",
       "140          范式   1\n",
       "141          行为   1\n",
       "142         解剖学   1\n",
       "143          计划   1\n",
       "144         计算机   1\n",
       "145          讲座   1\n",
       "146          论坛   1\n",
       "147          设计   1\n",
       "148         诺基亚   1\n",
       "149          课程   1\n",
       "150           谈   8\n",
       "151         达尔文   1\n",
       "152          过去   1\n",
       "153          过程   2\n",
       "154          运作   1\n",
       "155          选举   1\n",
       "156          遗产   1\n",
       "157          部副   1\n",
       "158        量子力学   1\n",
       "159          非裔   1\n",
       "160          领袖   2\n",
       "161          颠覆   1\n",
       "162           ：   3\n",
       "\n",
       "[163 rows x 2 columns]"
      ]
     },
     "execution_count": 27,
     "metadata": {},
     "output_type": "execute_result"
    }
   ],
   "source": [
    "pd.Series(word_count).to_frame().reset_index()"
   ]
  },
  {
   "cell_type": "code",
   "execution_count": 28,
   "metadata": {},
   "outputs": [
    {
     "data": {
      "text/plain": [
       "《         52\n",
       "》         52\n",
       "斯坦福大学     29\n",
       "斯坦福       25\n",
       "谈          8\n",
       "演讲         8\n",
       "创业         7\n",
       "CEO        6\n",
       "创始人        6\n",
       "的          6\n",
       "           5\n",
       "和          5\n",
       "美国         4\n",
       "与          4\n",
       "应用         4\n",
       "开发         4\n",
       "：          3\n",
       "企业         3\n",
       "发展         3\n",
       "—          3\n",
       "编程         3\n",
       "iPhone     2\n",
       "生物学        2\n",
       "分享         2\n",
       "iOS        2\n",
       "eBay       2\n",
       "·          2\n",
       "思想         2\n",
       "人          2\n",
       "研究         2\n",
       "          ..\n",
       "夫妇         1\n",
       "讲座         1\n",
       "学习         1\n",
       "学过         1\n",
       "学院         1\n",
       "年冬         1\n",
       "广义         1\n",
       "应对         1\n",
       "颠覆         1\n",
       "弦          1\n",
       "微软         1\n",
       "心理学家       1\n",
       "忘掉         1\n",
       "总监         1\n",
       "机器         1\n",
       "总统         1\n",
       "总裁         1\n",
       "戴尔         1\n",
       "手机         1\n",
       "技术开发       1\n",
       "抽象         1\n",
       "探索         1\n",
       "教程         1\n",
       "斗争         1\n",
       "过去         1\n",
       "达尔文        1\n",
       "方法学        1\n",
       "时代         1\n",
       "普拉特        1\n",
       "学          1\n",
       "Length: 163, dtype: int64"
      ]
     },
     "execution_count": 28,
     "metadata": {},
     "output_type": "execute_result"
    }
   ],
   "source": [
    "pd.Series(word_count).sort_values(ascending=False)"
   ]
  },
  {
   "cell_type": "code",
   "execution_count": 29,
   "metadata": {},
   "outputs": [
    {
     "name": "stdout",
     "output_type": "stream",
     "text": [
      "Requirement already satisfied: wordcloud in ./venv/lib/python3.6/site-packages\n",
      "Requirement already satisfied: matplotlib in ./venv/lib/python3.6/site-packages (from wordcloud)\n",
      "Requirement already satisfied: numpy>=1.6.1 in ./venv/lib/python3.6/site-packages (from wordcloud)\n",
      "Requirement already satisfied: pillow in ./venv/lib/python3.6/site-packages (from wordcloud)\n",
      "Requirement already satisfied: pytz in ./venv/lib/python3.6/site-packages (from matplotlib->wordcloud)\n",
      "Requirement already satisfied: six>=1.10 in ./venv/lib/python3.6/site-packages (from matplotlib->wordcloud)\n",
      "Requirement already satisfied: kiwisolver>=1.0.1 in ./venv/lib/python3.6/site-packages (from matplotlib->wordcloud)\n",
      "Requirement already satisfied: pyparsing!=2.0.4,!=2.1.2,!=2.1.6,>=2.0.1 in ./venv/lib/python3.6/site-packages (from matplotlib->wordcloud)\n",
      "Requirement already satisfied: python-dateutil>=2.1 in ./venv/lib/python3.6/site-packages (from matplotlib->wordcloud)\n",
      "Requirement already satisfied: cycler>=0.10 in ./venv/lib/python3.6/site-packages (from matplotlib->wordcloud)\n",
      "Requirement already satisfied: setuptools in ./venv/lib/python3.6/site-packages (from kiwisolver>=1.0.1->matplotlib->wordcloud)\n",
      "\u001b[33mYou are using pip version 9.0.1, however version 9.0.3 is available.\n",
      "You should consider upgrading via the 'pip install --upgrade pip' command.\u001b[0m\n"
     ]
    }
   ],
   "source": [
    "!pip install wordcloud"
   ]
  },
  {
   "cell_type": "code",
   "execution_count": 30,
   "metadata": {},
   "outputs": [],
   "source": [
    "from wordcloud import WordCloud"
   ]
  },
  {
   "cell_type": "code",
   "execution_count": 31,
   "metadata": {},
   "outputs": [],
   "source": [
    "cloud=WordCloud(\n",
    "    font_path=\"simfang.ttf\",\n",
    "    background_color= \"White\",\n",
    "    width=1400,\n",
    "    height=1400,\n",
    "    margin=2,\n",
    "    max_words=2000\n",
    ")"
   ]
  },
  {
   "cell_type": "code",
   "execution_count": 32,
   "metadata": {},
   "outputs": [
    {
     "data": {
      "text/plain": [
       "(-0.5, 1399.5, 1399.5, -0.5)"
      ]
     },
     "execution_count": 32,
     "metadata": {},
     "output_type": "execute_result"
    },
    {
     "data": {
      "image/png": "[encoded data removed]",
      "text/plain": [
       "<Figure size 432x288 with 1 Axes>"
      ]
     },
     "metadata": {},
     "output_type": "display_data"
    }
   ],
   "source": [
    "word_cloud = cloud.generate_from_frequencies(word_count)\n",
    "plt.imshow(word_cloud)\n",
    "plt.axis(\"off\")"
   ]
  },
  {
   "cell_type": "markdown",
   "metadata": {},
   "source": [
    "I used jieba to cut the text in the couses titles into words. Then I find out the words used most (Except the university name) were like，\"talk\", \"entrepreneurship\".By using the wordclod, the words were showed in the picture."
   ]
  },
  {
   "cell_type": "code",
   "execution_count": null,
   "metadata": {},
   "outputs": [],
   "source": []
  }
 ],
 "metadata": {
  "kernelspec": {
   "display_name": "Python 3",
   "language": "python",
   "name": "python3"
  },
  "language_info": {
   "codemirror_mode": {
    "name": "ipython",
    "version": 3
   },
   "file_extension": ".py",
   "mimetype": "text/x-python",
   "name": "python",
   "nbconvert_exporter": "python",
   "pygments_lexer": "ipython3",
   "version": "3.6.4"
  }
 },
 "nbformat": 4,
 "nbformat_minor": 2
}
